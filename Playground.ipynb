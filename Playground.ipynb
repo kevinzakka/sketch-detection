{
 "cells": [
  {
   "cell_type": "code",
   "execution_count": 1,
   "metadata": {},
   "outputs": [],
   "source": [
    "import os\n",
    "import pickle\n",
    "import numpy as np\n",
    "import matplotlib.pyplot as plt\n",
    "\n",
    "import torch\n",
    "import torch.nn as nn\n",
    "import torch.nn.functional as F\n",
    "import torch.optim as optim\n",
    "from torchvision import transforms\n",
    "from torchvision.datasets import ImageFolder\n",
    "from torch.utils.data import DataLoader\n",
    "from torch.autograd import Variable\n",
    "\n",
    "from utils import *\n",
    "from data_loader import get_train_loader\n",
    "\n",
    "%matplotlib inline\n",
    "\n",
    "# dir params\n",
    "root_dir = './data/train/'"
   ]
  },
  {
   "cell_type": "code",
   "execution_count": 2,
   "metadata": {},
   "outputs": [
    {
     "data": {
      "text/plain": [
       "<torch._C.Generator at 0x10f6558b8>"
      ]
     },
     "execution_count": 2,
     "metadata": {},
     "output_type": "execute_result"
    }
   ],
   "source": [
    "# ensuring reproducibility\n",
    "torch.manual_seed(423212)"
   ]
  },
  {
   "cell_type": "markdown",
   "metadata": {},
   "source": [
    "## View Data"
   ]
  },
  {
   "cell_type": "code",
   "execution_count": 3,
   "metadata": {},
   "outputs": [
    {
     "data": {
      "image/png": "[encoded data removed]",
      "text/plain": [
       "<matplotlib.figure.Figure at 0x10dee6080>"
      ]
     },
     "metadata": {},
     "output_type": "display_data"
    }
   ],
   "source": [
    "features = pickle.load(open('./data/dump/X_train.p', \"rb\"))\n",
    "\n",
    "# randomly select 100\n",
    "mask = np.random.choice(features.shape[0], 100, replace=False)  \n",
    "sample = features[mask]\n",
    "view_images(sample, save=True, name='dataset.png')"
   ]
  },
  {
   "cell_type": "markdown",
   "metadata": {},
   "source": [
    "## Custom DataLoader"
   ]
  },
  {
   "cell_type": "code",
   "execution_count": 4,
   "metadata": {},
   "outputs": [],
   "source": [
    "# transforms\n",
    "train_transform = transforms.Compose([\n",
    "    transforms.Scale((28, 28)),\n",
    "    transforms.ToTensor(),\n",
    "])\n",
    "\n",
    "kwargs = {'shuffle': True, 'num_workers': 4}\n",
    "train_loader = get_train_loader(root_dir, train_transform, **kwargs)"
   ]
  },
  {
   "cell_type": "markdown",
   "metadata": {},
   "source": [
    "## Model"
   ]
  },
  {
   "cell_type": "code",
   "execution_count": 5,
   "metadata": {},
   "outputs": [],
   "source": [
    "class ConvNet(nn.Module):\n",
    "    def __init__(self):\n",
    "        super(ConvNet, self).__init__()\n",
    "        self.conv1 = nn.Conv2d(1, 10, kernel_size=5)\n",
    "        self.conv2 = nn.Conv2d(10, 20, kernel_size=5)\n",
    "        self.fc1 = nn.Linear(320, 50)\n",
    "        self.fc2 = nn.Linear(50, 6)\n",
    "\n",
    "    def forward(self, x):\n",
    "        x = F.relu(F.max_pool2d(self.conv1(x), 2))\n",
    "        x = F.relu(F.max_pool2d(self.conv2(x), 2))\n",
    "        x = x.view(-1, 320)\n",
    "        x = F.relu(self.fc1(x))\n",
    "        return self.fc2(x)"
   ]
  },
  {
   "cell_type": "code",
   "execution_count": 6,
   "metadata": {},
   "outputs": [],
   "source": [
    "def accuracy(predicted, ground_truth):\n",
    "    \"\"\"\n",
    "    Utility function for calculating the accuracy of the model.\n",
    "    Params\n",
    "    ------\n",
    "    - predicted: (torch.FloatTensor)\n",
    "    - ground_truth: (torch.LongTensor)\n",
    "    Returns\n",
    "    -------\n",
    "    - acc: (float) % accuracy.\n",
    "    \"\"\"\n",
    "    predicted = torch.max(predicted, 1)[1]\n",
    "    total = len(ground_truth)\n",
    "    correct = (predicted == ground_truth).sum().double()\n",
    "    acc = 100 * (correct / total)\n",
    "    return acc.data[0]"
   ]
  },
  {
   "cell_type": "code",
   "execution_count": 7,
   "metadata": {},
   "outputs": [
    {
     "name": "stdout",
     "output_type": "stream",
     "text": [
      "Number of model parameters: 21,636\n"
     ]
    }
   ],
   "source": [
    "model = ConvNet()\n",
    "optimizer = optim.Adam(model.parameters())\n",
    "\n",
    "print('Number of model parameters: {:,}'.format(sum([p.data.nelement() for p in model.parameters()])))"
   ]
  },
  {
   "cell_type": "code",
   "execution_count": 8,
   "metadata": {},
   "outputs": [],
   "source": [
    "def train(epoch):\n",
    "    for batch_idx, (data, target) in enumerate(train_loader):\n",
    "        data, target = Variable(data), Variable(target)\n",
    "        optimizer.zero_grad()\n",
    "        output = model(data)\n",
    "        loss = F.cross_entropy(output, target)\n",
    "        acc = accuracy(output, target)\n",
    "        loss.backward()\n",
    "        optimizer.step()\n",
    "        if batch_idx % 1 == 0:\n",
    "            print('Train Epoch: {} [{}/{} ({:.0f}%)]\\tLoss: {:.6f}\\tAcc: {:.6f}'.format(\n",
    "                epoch, batch_idx * len(data), len(train_loader.dataset),\n",
    "                100. * batch_idx / len(train_loader), loss.data[0], acc))"
   ]
  },
  {
   "cell_type": "code",
   "execution_count": 9,
   "metadata": {
    "scrolled": true
   },
   "outputs": [
    {
     "name": "stdout",
     "output_type": "stream",
     "text": [
      "Train Epoch: 1 [0/311 (0%)]\tLoss: 1.775169\tAcc: 27.343750\n",
      "Train Epoch: 1 [128/311 (33%)]\tLoss: 1.766149\tAcc: 27.343750\n",
      "Train Epoch: 1 [110/311 (67%)]\tLoss: 1.751619\tAcc: 16.363636\n",
      "Train Epoch: 2 [0/311 (0%)]\tLoss: 1.737194\tAcc: 21.093750\n",
      "Train Epoch: 2 [128/311 (33%)]\tLoss: 1.687010\tAcc: 27.343750\n",
      "Train Epoch: 2 [110/311 (67%)]\tLoss: 1.660310\tAcc: 30.909091\n",
      "Train Epoch: 3 [0/311 (0%)]\tLoss: 1.639619\tAcc: 25.781250\n",
      "Train Epoch: 3 [128/311 (33%)]\tLoss: 1.602904\tAcc: 28.125000\n",
      "Train Epoch: 3 [110/311 (67%)]\tLoss: 1.617259\tAcc: 18.181818\n",
      "Train Epoch: 4 [0/311 (0%)]\tLoss: 1.519526\tAcc: 32.031250\n",
      "Train Epoch: 4 [128/311 (33%)]\tLoss: 1.505675\tAcc: 33.593750\n",
      "Train Epoch: 4 [110/311 (67%)]\tLoss: 1.516455\tAcc: 38.181818\n",
      "Train Epoch: 5 [0/311 (0%)]\tLoss: 1.417729\tAcc: 54.687500\n",
      "Train Epoch: 5 [128/311 (33%)]\tLoss: 1.392105\tAcc: 57.031250\n",
      "Train Epoch: 5 [110/311 (67%)]\tLoss: 1.280072\tAcc: 67.272727\n",
      "Train Epoch: 6 [0/311 (0%)]\tLoss: 1.276326\tAcc: 60.156250\n",
      "Train Epoch: 6 [128/311 (33%)]\tLoss: 1.213024\tAcc: 62.500000\n",
      "Train Epoch: 6 [110/311 (67%)]\tLoss: 1.175114\tAcc: 61.818182\n",
      "Train Epoch: 7 [0/311 (0%)]\tLoss: 1.103441\tAcc: 61.718750\n",
      "Train Epoch: 7 [128/311 (33%)]\tLoss: 1.040235\tAcc: 71.875000\n",
      "Train Epoch: 7 [110/311 (67%)]\tLoss: 0.981155\tAcc: 72.727273\n",
      "Train Epoch: 8 [0/311 (0%)]\tLoss: 0.912170\tAcc: 72.656250\n",
      "Train Epoch: 8 [128/311 (33%)]\tLoss: 0.869761\tAcc: 73.437500\n",
      "Train Epoch: 8 [110/311 (67%)]\tLoss: 0.802593\tAcc: 81.818182\n",
      "Train Epoch: 9 [0/311 (0%)]\tLoss: 0.815670\tAcc: 76.562500\n",
      "Train Epoch: 9 [128/311 (33%)]\tLoss: 0.638946\tAcc: 85.156250\n",
      "Train Epoch: 9 [110/311 (67%)]\tLoss: 0.601613\tAcc: 89.090909\n",
      "Train Epoch: 10 [0/311 (0%)]\tLoss: 0.607744\tAcc: 88.281250\n",
      "Train Epoch: 10 [128/311 (33%)]\tLoss: 0.578670\tAcc: 84.375000\n",
      "Train Epoch: 10 [110/311 (67%)]\tLoss: 0.397346\tAcc: 94.545455\n",
      "Train Epoch: 11 [0/311 (0%)]\tLoss: 0.473654\tAcc: 87.500000\n",
      "Train Epoch: 11 [128/311 (33%)]\tLoss: 0.425308\tAcc: 92.187500\n",
      "Train Epoch: 11 [110/311 (67%)]\tLoss: 0.376504\tAcc: 87.272727\n",
      "Train Epoch: 12 [0/311 (0%)]\tLoss: 0.397482\tAcc: 87.500000\n",
      "Train Epoch: 12 [128/311 (33%)]\tLoss: 0.311233\tAcc: 92.187500\n",
      "Train Epoch: 12 [110/311 (67%)]\tLoss: 0.298808\tAcc: 87.272727\n",
      "Train Epoch: 13 [0/311 (0%)]\tLoss: 0.239115\tAcc: 92.187500\n",
      "Train Epoch: 13 [128/311 (33%)]\tLoss: 0.324762\tAcc: 86.718750\n",
      "Train Epoch: 13 [110/311 (67%)]\tLoss: 0.251422\tAcc: 89.090909\n",
      "Train Epoch: 14 [0/311 (0%)]\tLoss: 0.228252\tAcc: 89.062500\n",
      "Train Epoch: 14 [128/311 (33%)]\tLoss: 0.201901\tAcc: 91.406250\n",
      "Train Epoch: 14 [110/311 (67%)]\tLoss: 0.276799\tAcc: 85.454545\n",
      "Train Epoch: 15 [0/311 (0%)]\tLoss: 0.245318\tAcc: 85.937500\n",
      "Train Epoch: 15 [128/311 (33%)]\tLoss: 0.132619\tAcc: 93.750000\n",
      "Train Epoch: 15 [110/311 (67%)]\tLoss: 0.235007\tAcc: 87.272727\n",
      "Train Epoch: 16 [0/311 (0%)]\tLoss: 0.186599\tAcc: 89.843750\n",
      "Train Epoch: 16 [128/311 (33%)]\tLoss: 0.167748\tAcc: 92.187500\n",
      "Train Epoch: 16 [110/311 (67%)]\tLoss: 0.154079\tAcc: 100.000000\n",
      "Train Epoch: 17 [0/311 (0%)]\tLoss: 0.149048\tAcc: 96.875000\n",
      "Train Epoch: 17 [128/311 (33%)]\tLoss: 0.160431\tAcc: 91.406250\n",
      "Train Epoch: 17 [110/311 (67%)]\tLoss: 0.150663\tAcc: 90.909091\n",
      "Train Epoch: 18 [0/311 (0%)]\tLoss: 0.156776\tAcc: 89.062500\n",
      "Train Epoch: 18 [128/311 (33%)]\tLoss: 0.144811\tAcc: 92.187500\n",
      "Train Epoch: 18 [110/311 (67%)]\tLoss: 0.092725\tAcc: 92.727273\n",
      "Train Epoch: 19 [0/311 (0%)]\tLoss: 0.135819\tAcc: 89.843750\n",
      "Train Epoch: 19 [128/311 (33%)]\tLoss: 0.127580\tAcc: 96.093750\n",
      "Train Epoch: 19 [110/311 (67%)]\tLoss: 0.112390\tAcc: 96.363636\n",
      "Train Epoch: 20 [0/311 (0%)]\tLoss: 0.103867\tAcc: 100.000000\n",
      "Train Epoch: 20 [128/311 (33%)]\tLoss: 0.102471\tAcc: 96.875000\n",
      "Train Epoch: 20 [110/311 (67%)]\tLoss: 0.157620\tAcc: 92.727273\n",
      "Train Epoch: 21 [0/311 (0%)]\tLoss: 0.097959\tAcc: 98.437500\n",
      "Train Epoch: 21 [128/311 (33%)]\tLoss: 0.112708\tAcc: 99.218750\n",
      "Train Epoch: 21 [110/311 (67%)]\tLoss: 0.078712\tAcc: 100.000000\n",
      "Train Epoch: 22 [0/311 (0%)]\tLoss: 0.087541\tAcc: 100.000000\n",
      "Train Epoch: 22 [128/311 (33%)]\tLoss: 0.091511\tAcc: 100.000000\n",
      "Train Epoch: 22 [110/311 (67%)]\tLoss: 0.099124\tAcc: 100.000000\n",
      "Train Epoch: 23 [0/311 (0%)]\tLoss: 0.082093\tAcc: 100.000000\n",
      "Train Epoch: 23 [128/311 (33%)]\tLoss: 0.090482\tAcc: 100.000000\n",
      "Train Epoch: 23 [110/311 (67%)]\tLoss: 0.052866\tAcc: 100.000000\n",
      "Train Epoch: 24 [0/311 (0%)]\tLoss: 0.061533\tAcc: 100.000000\n",
      "Train Epoch: 24 [128/311 (33%)]\tLoss: 0.082073\tAcc: 100.000000\n",
      "Train Epoch: 24 [110/311 (67%)]\tLoss: 0.057162\tAcc: 100.000000\n",
      "Train Epoch: 25 [0/311 (0%)]\tLoss: 0.052475\tAcc: 100.000000\n",
      "Train Epoch: 25 [128/311 (33%)]\tLoss: 0.074854\tAcc: 100.000000\n",
      "Train Epoch: 25 [110/311 (67%)]\tLoss: 0.043331\tAcc: 100.000000\n",
      "Train Epoch: 26 [0/311 (0%)]\tLoss: 0.053309\tAcc: 100.000000\n",
      "Train Epoch: 26 [128/311 (33%)]\tLoss: 0.045408\tAcc: 100.000000\n",
      "Train Epoch: 26 [110/311 (67%)]\tLoss: 0.060438\tAcc: 100.000000\n",
      "Train Epoch: 27 [0/311 (0%)]\tLoss: 0.044703\tAcc: 100.000000\n",
      "Train Epoch: 27 [128/311 (33%)]\tLoss: 0.043518\tAcc: 100.000000\n",
      "Train Epoch: 27 [110/311 (67%)]\tLoss: 0.039192\tAcc: 100.000000\n",
      "Train Epoch: 28 [0/311 (0%)]\tLoss: 0.042786\tAcc: 100.000000\n",
      "Train Epoch: 28 [128/311 (33%)]\tLoss: 0.037851\tAcc: 100.000000\n",
      "Train Epoch: 28 [110/311 (67%)]\tLoss: 0.026665\tAcc: 100.000000\n",
      "Train Epoch: 29 [0/311 (0%)]\tLoss: 0.032388\tAcc: 100.000000\n",
      "Train Epoch: 29 [128/311 (33%)]\tLoss: 0.028065\tAcc: 100.000000\n",
      "Train Epoch: 29 [110/311 (67%)]\tLoss: 0.034725\tAcc: 100.000000\n",
      "Train Epoch: 30 [0/311 (0%)]\tLoss: 0.022470\tAcc: 100.000000\n",
      "Train Epoch: 30 [128/311 (33%)]\tLoss: 0.029552\tAcc: 100.000000\n",
      "Train Epoch: 30 [110/311 (67%)]\tLoss: 0.028551\tAcc: 100.000000\n"
     ]
    }
   ],
   "source": [
    "num_epochs = 30\n",
    "\n",
    "for epoch in range(1,  num_epochs + 1):\n",
    "    train(epoch)"
   ]
  },
  {
   "cell_type": "code",
   "execution_count": 11,
   "metadata": {},
   "outputs": [
    {
     "data": {
      "image/png": "[encoded data removed]",
      "text/plain": [
       "<matplotlib.figure.Figure at 0x10df84908>"
      ]
     },
     "metadata": {},
     "output_type": "display_data"
    }
   ],
   "source": [
    "X_test = pickle.load(open(\"./data/test/X_test.p\", \"rb\"))\n",
    "poop = np.transpose(X_test, [0, 2, 3, 1])\n",
    "view_images(poop, save=True, name='extracted.png')\n",
    "\n",
    "gd_Truth = [5, 3, 1, 4]\n",
    "labels = np.array(gd_Truth)\n",
    "labels = np.resize(labels, [labels.shape[0], 1])\n",
    "\n",
    "X_test = torch.from_numpy(X_test)\n",
    "y_test = torch.from_numpy(labels)"
   ]
  },
  {
   "cell_type": "code",
   "execution_count": 27,
   "metadata": {},
   "outputs": [],
   "source": [
    "def test():\n",
    "    correct = 0\n",
    "    data, target = Variable(X_test, volatile=True), Variable(y_test)\n",
    "    output = model(data)\n",
    "    pred = output.data.max(1, keepdim=True)[1]\n",
    "    correct += pred.eq(target.data.view_as(pred)).cpu().sum()\n",
    "    print('Accuracy: {}/{} ({:.0f}%)\\n'.format(correct, X_test.size()[0],\n",
    "        100. * correct / X_test.size()[0]))"
   ]
  },
  {
   "cell_type": "code",
   "execution_count": 28,
   "metadata": {},
   "outputs": [
    {
     "name": "stdout",
     "output_type": "stream",
     "text": [
      "Accuracy: 4/4 (100%)\n",
      "\n"
     ]
    }
   ],
   "source": [
    "test()"
   ]
  },
  {
   "cell_type": "code",
   "execution_count": 25,
   "metadata": {},
   "outputs": [
    {
     "name": "stdout",
     "output_type": "stream",
     "text": [
      "Gd Truth: ['triangle', 'square', 'cross', 'squiggly']\n",
      "Predictions: ['triangle', 'square', 'cross', 'squiggly']\n"
     ]
    }
   ],
   "source": [
    "correct_names = [num2name(x) for x in gd_Truth]\n",
    "prediction = list(pred.numpy().flatten())\n",
    "prediction = [num2name(x) for x in prediction]\n",
    "print(\"Gd Truth: {}\".format(correct_names))\n",
    "print(\"Predictions: {}\".format(prediction))"
   ]
  }
 ],
 "metadata": {
  "kernelspec": {
   "display_name": "Python 3",
   "language": "python",
   "name": "python3"
  },
  "language_info": {
   "codemirror_mode": {
    "name": "ipython",
    "version": 3
   },
   "file_extension": ".py",
   "mimetype": "text/x-python",
   "name": "python",
   "nbconvert_exporter": "python",
   "pygments_lexer": "ipython3",
   "version": "3.6.3"
  }
 },
 "nbformat": 4,
 "nbformat_minor": 2
}
