{
 "cells": [
  {
   "cell_type": "code",
   "execution_count": 1,
   "metadata": {},
   "outputs": [],
   "source": [
    "import os\n",
    "import pickle\n",
    "import numpy as np\n",
    "import matplotlib.pyplot as plt\n",
    "\n",
    "import torch\n",
    "import torch.nn as nn\n",
    "import torch.nn.functional as F\n",
    "import torch.optim as optim\n",
    "from torchvision import transforms\n",
    "from torchvision.datasets import ImageFolder\n",
    "from torch.utils.data import DataLoader\n",
    "from torch.autograd import Variable\n",
    "\n",
    "from utils import *\n",
    "from data_loader import get_train_loader\n",
    "\n",
    "%matplotlib inline\n",
    "\n",
    "# dir params\n",
    "root_dir = './data/train/'"
   ]
  },
  {
   "cell_type": "code",
   "execution_count": 2,
   "metadata": {},
   "outputs": [
    {
     "data": {
      "text/plain": [
       "<torch._C.Generator at 0x111cbd530>"
      ]
     },
     "execution_count": 2,
     "metadata": {},
     "output_type": "execute_result"
    }
   ],
   "source": [
    "# ensuring reproducibility\n",
    "torch.manual_seed(423212)"
   ]
  },
  {
   "cell_type": "markdown",
   "metadata": {},
   "source": [
    "## View Data"
   ]
  },
  {
   "cell_type": "code",
   "execution_count": 3,
   "metadata": {},
   "outputs": [
    {
     "data": {
      "image/png": "[encoded data removed]",
      "text/plain": [
       "<matplotlib.figure.Figure at 0x110305f98>"
      ]
     },
     "metadata": {},
     "output_type": "display_data"
    }
   ],
   "source": [
    "features = pickle.load(open('./data/dump/X_train.p', \"rb\"))\n",
    "\n",
    "# randomly select 100\n",
    "mask = np.random.choice(features.shape[0], 100, replace=False)  \n",
    "sample = features[mask]\n",
    "view_images(sample)"
   ]
  },
  {
   "cell_type": "markdown",
   "metadata": {},
   "source": [
    "## Custom DataLoader"
   ]
  },
  {
   "cell_type": "code",
   "execution_count": 4,
   "metadata": {},
   "outputs": [],
   "source": [
    "# transforms\n",
    "train_transform = transforms.Compose([\n",
    "    transforms.Resize((28, 28)),\n",
    "#     transforms.RandomHorizontalFlip(),\n",
    "#     transforms.RandomRotation(45),\n",
    "    transforms.ToTensor(),\n",
    "])\n",
    "\n",
    "kwargs = {'shuffle': True, 'num_workers': 4}\n",
    "train_loader = get_train_loader(root_dir, train_transform, **kwargs)"
   ]
  },
  {
   "cell_type": "markdown",
   "metadata": {},
   "source": [
    "## Model"
   ]
  },
  {
   "cell_type": "code",
   "execution_count": 5,
   "metadata": {},
   "outputs": [],
   "source": [
    "class ConvNet(nn.Module):\n",
    "    def __init__(self):\n",
    "        super(ConvNet, self).__init__()\n",
    "        self.conv1 = nn.Conv2d(1, 10, kernel_size=5)\n",
    "        self.conv2 = nn.Conv2d(10, 20, kernel_size=5)\n",
    "        self.fc1 = nn.Linear(320, 50)\n",
    "        self.fc2 = nn.Linear(50, 6)\n",
    "\n",
    "    def forward(self, x):\n",
    "        x = F.relu(F.max_pool2d(self.conv1(x), 2))\n",
    "        x = F.relu(F.max_pool2d(self.conv2(x), 2))\n",
    "        x = x.view(-1, 320)\n",
    "        x = F.relu(self.fc1(x))\n",
    "        return self.fc2(x)"
   ]
  },
  {
   "cell_type": "code",
   "execution_count": 6,
   "metadata": {},
   "outputs": [],
   "source": [
    "def accuracy(predicted, ground_truth):\n",
    "    \"\"\"\n",
    "    Utility function for calculating the accuracy of the model.\n",
    "    Params\n",
    "    ------\n",
    "    - predicted: (torch.FloatTensor)\n",
    "    - ground_truth: (torch.LongTensor)\n",
    "    Returns\n",
    "    -------\n",
    "    - acc: (float) % accuracy.\n",
    "    \"\"\"\n",
    "    predicted = torch.max(predicted, 1)[1]\n",
    "    total = len(ground_truth)\n",
    "    correct = (predicted == ground_truth).sum().double()\n",
    "    acc = 100 * (correct / total)\n",
    "    return acc.data[0]"
   ]
  },
  {
   "cell_type": "code",
   "execution_count": 7,
   "metadata": {},
   "outputs": [
    {
     "name": "stdout",
     "output_type": "stream",
     "text": [
      "Number of model parameters: 21,636\n"
     ]
    }
   ],
   "source": [
    "model = ConvNet()\n",
    "optimizer = optim.Adam(model.parameters())\n",
    "\n",
    "print('Number of model parameters: {:,}'.format(sum([p.data.nelement() for p in model.parameters()])))"
   ]
  },
  {
   "cell_type": "code",
   "execution_count": 8,
   "metadata": {},
   "outputs": [],
   "source": [
    "def train(epoch):\n",
    "    for batch_idx, (data, target) in enumerate(train_loader):\n",
    "        data, target = Variable(data), Variable(target)\n",
    "        optimizer.zero_grad()\n",
    "        output = model(data)\n",
    "        loss = F.cross_entropy(output, target)\n",
    "        acc = accuracy(output, target)\n",
    "        loss.backward()\n",
    "        optimizer.step()\n",
    "        if batch_idx % 1 == 0:\n",
    "            print('Train Epoch: {} [{}/{} ({:.0f}%)]\\tLoss: {:.6f}\\tAcc: {:.6f}'.format(\n",
    "                epoch, batch_idx * len(data), len(train_loader.dataset),\n",
    "                100. * batch_idx / len(train_loader), loss.data[0], acc))"
   ]
  },
  {
   "cell_type": "code",
   "execution_count": 9,
   "metadata": {
    "scrolled": true
   },
   "outputs": [
    {
     "name": "stdout",
     "output_type": "stream",
     "text": [
      "Train Epoch: 1 [0/311 (0%)]\tLoss: 1.777363\tAcc: 27.343750\n",
      "Train Epoch: 1 [128/311 (33%)]\tLoss: 1.761335\tAcc: 27.343750\n",
      "Train Epoch: 1 [110/311 (67%)]\tLoss: 1.765963\tAcc: 16.363636\n",
      "Train Epoch: 2 [0/311 (0%)]\tLoss: 1.741638\tAcc: 21.093750\n",
      "Train Epoch: 2 [128/311 (33%)]\tLoss: 1.712892\tAcc: 27.343750\n",
      "Train Epoch: 2 [110/311 (67%)]\tLoss: 1.686604\tAcc: 30.909091\n",
      "Train Epoch: 3 [0/311 (0%)]\tLoss: 1.676963\tAcc: 25.781250\n",
      "Train Epoch: 3 [128/311 (33%)]\tLoss: 1.639033\tAcc: 28.125000\n",
      "Train Epoch: 3 [110/311 (67%)]\tLoss: 1.631614\tAcc: 21.818182\n",
      "Train Epoch: 4 [0/311 (0%)]\tLoss: 1.572116\tAcc: 36.718750\n",
      "Train Epoch: 4 [128/311 (33%)]\tLoss: 1.539236\tAcc: 43.750000\n",
      "Train Epoch: 4 [110/311 (67%)]\tLoss: 1.539777\tAcc: 41.818182\n",
      "Train Epoch: 5 [0/311 (0%)]\tLoss: 1.459679\tAcc: 50.781250\n",
      "Train Epoch: 5 [128/311 (33%)]\tLoss: 1.408240\tAcc: 51.562500\n",
      "Train Epoch: 5 [110/311 (67%)]\tLoss: 1.323909\tAcc: 61.818182\n",
      "Train Epoch: 6 [0/311 (0%)]\tLoss: 1.291315\tAcc: 58.593750\n",
      "Train Epoch: 6 [128/311 (33%)]\tLoss: 1.225455\tAcc: 60.937500\n",
      "Train Epoch: 6 [110/311 (67%)]\tLoss: 1.186503\tAcc: 65.454545\n",
      "Train Epoch: 7 [0/311 (0%)]\tLoss: 1.104540\tAcc: 78.125000\n",
      "Train Epoch: 7 [128/311 (33%)]\tLoss: 1.031276\tAcc: 79.687500\n",
      "Train Epoch: 7 [110/311 (67%)]\tLoss: 0.965227\tAcc: 83.636364\n",
      "Train Epoch: 8 [0/311 (0%)]\tLoss: 0.872778\tAcc: 88.281250\n",
      "Train Epoch: 8 [128/311 (33%)]\tLoss: 0.853185\tAcc: 86.718750\n",
      "Train Epoch: 8 [110/311 (67%)]\tLoss: 0.764864\tAcc: 87.272727\n",
      "Train Epoch: 9 [0/311 (0%)]\tLoss: 0.768950\tAcc: 85.937500\n",
      "Train Epoch: 9 [128/311 (33%)]\tLoss: 0.594573\tAcc: 92.968750\n",
      "Train Epoch: 9 [110/311 (67%)]\tLoss: 0.550086\tAcc: 89.090909\n",
      "Train Epoch: 10 [0/311 (0%)]\tLoss: 0.555363\tAcc: 89.062500\n",
      "Train Epoch: 10 [128/311 (33%)]\tLoss: 0.515696\tAcc: 87.500000\n",
      "Train Epoch: 10 [110/311 (67%)]\tLoss: 0.353936\tAcc: 94.545455\n",
      "Train Epoch: 11 [0/311 (0%)]\tLoss: 0.432263\tAcc: 88.281250\n",
      "Train Epoch: 11 [128/311 (33%)]\tLoss: 0.357868\tAcc: 92.187500\n",
      "Train Epoch: 11 [110/311 (67%)]\tLoss: 0.325257\tAcc: 87.272727\n",
      "Train Epoch: 12 [0/311 (0%)]\tLoss: 0.352180\tAcc: 88.281250\n",
      "Train Epoch: 12 [128/311 (33%)]\tLoss: 0.256018\tAcc: 92.187500\n",
      "Train Epoch: 12 [110/311 (67%)]\tLoss: 0.257790\tAcc: 87.272727\n",
      "Train Epoch: 13 [0/311 (0%)]\tLoss: 0.204291\tAcc: 92.187500\n",
      "Train Epoch: 13 [128/311 (33%)]\tLoss: 0.275882\tAcc: 86.718750\n",
      "Train Epoch: 13 [110/311 (67%)]\tLoss: 0.199648\tAcc: 90.909091\n",
      "Train Epoch: 14 [0/311 (0%)]\tLoss: 0.197658\tAcc: 89.062500\n",
      "Train Epoch: 14 [128/311 (33%)]\tLoss: 0.178309\tAcc: 91.406250\n",
      "Train Epoch: 14 [110/311 (67%)]\tLoss: 0.206910\tAcc: 90.909091\n",
      "Train Epoch: 15 [0/311 (0%)]\tLoss: 0.196528\tAcc: 95.312500\n",
      "Train Epoch: 15 [128/311 (33%)]\tLoss: 0.102955\tAcc: 99.218750\n",
      "Train Epoch: 15 [110/311 (67%)]\tLoss: 0.235679\tAcc: 92.727273\n",
      "Train Epoch: 16 [0/311 (0%)]\tLoss: 0.160146\tAcc: 97.656250\n",
      "Train Epoch: 16 [128/311 (33%)]\tLoss: 0.124488\tAcc: 97.656250\n",
      "Train Epoch: 16 [110/311 (67%)]\tLoss: 0.120243\tAcc: 98.181818\n",
      "Train Epoch: 17 [0/311 (0%)]\tLoss: 0.104441\tAcc: 100.000000\n",
      "Train Epoch: 17 [128/311 (33%)]\tLoss: 0.116326\tAcc: 96.875000\n",
      "Train Epoch: 17 [110/311 (67%)]\tLoss: 0.149279\tAcc: 96.363636\n",
      "Train Epoch: 18 [0/311 (0%)]\tLoss: 0.117193\tAcc: 97.656250\n",
      "Train Epoch: 18 [128/311 (33%)]\tLoss: 0.103507\tAcc: 97.656250\n",
      "Train Epoch: 18 [110/311 (67%)]\tLoss: 0.076296\tAcc: 94.545455\n",
      "Train Epoch: 19 [0/311 (0%)]\tLoss: 0.090317\tAcc: 98.437500\n",
      "Train Epoch: 19 [128/311 (33%)]\tLoss: 0.089091\tAcc: 97.656250\n",
      "Train Epoch: 19 [110/311 (67%)]\tLoss: 0.089181\tAcc: 94.545455\n",
      "Train Epoch: 20 [0/311 (0%)]\tLoss: 0.080666\tAcc: 97.656250\n",
      "Train Epoch: 20 [128/311 (33%)]\tLoss: 0.055489\tAcc: 100.000000\n",
      "Train Epoch: 20 [110/311 (67%)]\tLoss: 0.099225\tAcc: 100.000000\n",
      "Train Epoch: 21 [0/311 (0%)]\tLoss: 0.060015\tAcc: 98.437500\n",
      "Train Epoch: 21 [128/311 (33%)]\tLoss: 0.072408\tAcc: 100.000000\n",
      "Train Epoch: 21 [110/311 (67%)]\tLoss: 0.043232\tAcc: 100.000000\n",
      "Train Epoch: 22 [0/311 (0%)]\tLoss: 0.048034\tAcc: 100.000000\n",
      "Train Epoch: 22 [128/311 (33%)]\tLoss: 0.054653\tAcc: 99.218750\n",
      "Train Epoch: 22 [110/311 (67%)]\tLoss: 0.061212\tAcc: 98.181818\n",
      "Train Epoch: 23 [0/311 (0%)]\tLoss: 0.049995\tAcc: 98.437500\n",
      "Train Epoch: 23 [128/311 (33%)]\tLoss: 0.043741\tAcc: 100.000000\n",
      "Train Epoch: 23 [110/311 (67%)]\tLoss: 0.035529\tAcc: 100.000000\n",
      "Train Epoch: 24 [0/311 (0%)]\tLoss: 0.029718\tAcc: 100.000000\n",
      "Train Epoch: 24 [128/311 (33%)]\tLoss: 0.046332\tAcc: 99.218750\n",
      "Train Epoch: 24 [110/311 (67%)]\tLoss: 0.032247\tAcc: 100.000000\n",
      "Train Epoch: 25 [0/311 (0%)]\tLoss: 0.027137\tAcc: 99.218750\n",
      "Train Epoch: 25 [128/311 (33%)]\tLoss: 0.039183\tAcc: 100.000000\n",
      "Train Epoch: 25 [110/311 (67%)]\tLoss: 0.024780\tAcc: 100.000000\n",
      "Train Epoch: 26 [0/311 (0%)]\tLoss: 0.030262\tAcc: 100.000000\n",
      "Train Epoch: 26 [128/311 (33%)]\tLoss: 0.024128\tAcc: 99.218750\n",
      "Train Epoch: 26 [110/311 (67%)]\tLoss: 0.028808\tAcc: 100.000000\n",
      "Train Epoch: 27 [0/311 (0%)]\tLoss: 0.027521\tAcc: 99.218750\n",
      "Train Epoch: 27 [128/311 (33%)]\tLoss: 0.019152\tAcc: 100.000000\n",
      "Train Epoch: 27 [110/311 (67%)]\tLoss: 0.022748\tAcc: 100.000000\n",
      "Train Epoch: 28 [0/311 (0%)]\tLoss: 0.023850\tAcc: 99.218750\n",
      "Train Epoch: 28 [128/311 (33%)]\tLoss: 0.020669\tAcc: 100.000000\n",
      "Train Epoch: 28 [110/311 (67%)]\tLoss: 0.010486\tAcc: 100.000000\n",
      "Train Epoch: 29 [0/311 (0%)]\tLoss: 0.015682\tAcc: 100.000000\n",
      "Train Epoch: 29 [128/311 (33%)]\tLoss: 0.014873\tAcc: 100.000000\n",
      "Train Epoch: 29 [110/311 (67%)]\tLoss: 0.029727\tAcc: 98.181818\n",
      "Train Epoch: 30 [0/311 (0%)]\tLoss: 0.012178\tAcc: 100.000000\n",
      "Train Epoch: 30 [128/311 (33%)]\tLoss: 0.013999\tAcc: 100.000000\n",
      "Train Epoch: 30 [110/311 (67%)]\tLoss: 0.024120\tAcc: 100.000000\n",
      "Train Epoch: 31 [0/311 (0%)]\tLoss: 0.015271\tAcc: 100.000000\n",
      "Train Epoch: 31 [128/311 (33%)]\tLoss: 0.014929\tAcc: 100.000000\n",
      "Train Epoch: 31 [110/311 (67%)]\tLoss: 0.006765\tAcc: 100.000000\n",
      "Train Epoch: 32 [0/311 (0%)]\tLoss: 0.017992\tAcc: 100.000000\n",
      "Train Epoch: 32 [128/311 (33%)]\tLoss: 0.005955\tAcc: 100.000000\n",
      "Train Epoch: 32 [110/311 (67%)]\tLoss: 0.014215\tAcc: 100.000000\n",
      "Train Epoch: 33 [0/311 (0%)]\tLoss: 0.011660\tAcc: 100.000000\n",
      "Train Epoch: 33 [128/311 (33%)]\tLoss: 0.006723\tAcc: 100.000000\n",
      "Train Epoch: 33 [110/311 (67%)]\tLoss: 0.016633\tAcc: 100.000000\n",
      "Train Epoch: 34 [0/311 (0%)]\tLoss: 0.009268\tAcc: 100.000000\n",
      "Train Epoch: 34 [128/311 (33%)]\tLoss: 0.010253\tAcc: 100.000000\n",
      "Train Epoch: 34 [110/311 (67%)]\tLoss: 0.006579\tAcc: 100.000000\n",
      "Train Epoch: 35 [0/311 (0%)]\tLoss: 0.011012\tAcc: 100.000000\n",
      "Train Epoch: 35 [128/311 (33%)]\tLoss: 0.006382\tAcc: 100.000000\n",
      "Train Epoch: 35 [110/311 (67%)]\tLoss: 0.007172\tAcc: 100.000000\n",
      "Train Epoch: 36 [0/311 (0%)]\tLoss: 0.008835\tAcc: 100.000000\n",
      "Train Epoch: 36 [128/311 (33%)]\tLoss: 0.006703\tAcc: 100.000000\n",
      "Train Epoch: 36 [110/311 (67%)]\tLoss: 0.006080\tAcc: 100.000000\n",
      "Train Epoch: 37 [0/311 (0%)]\tLoss: 0.007691\tAcc: 100.000000\n",
      "Train Epoch: 37 [128/311 (33%)]\tLoss: 0.007196\tAcc: 100.000000\n",
      "Train Epoch: 37 [110/311 (67%)]\tLoss: 0.003985\tAcc: 100.000000\n",
      "Train Epoch: 38 [0/311 (0%)]\tLoss: 0.007106\tAcc: 100.000000\n",
      "Train Epoch: 38 [128/311 (33%)]\tLoss: 0.006229\tAcc: 100.000000\n",
      "Train Epoch: 38 [110/311 (67%)]\tLoss: 0.004721\tAcc: 100.000000\n",
      "Train Epoch: 39 [0/311 (0%)]\tLoss: 0.003728\tAcc: 100.000000\n",
      "Train Epoch: 39 [128/311 (33%)]\tLoss: 0.006813\tAcc: 100.000000\n",
      "Train Epoch: 39 [110/311 (67%)]\tLoss: 0.007384\tAcc: 100.000000\n",
      "Train Epoch: 40 [0/311 (0%)]\tLoss: 0.003679\tAcc: 100.000000\n",
      "Train Epoch: 40 [128/311 (33%)]\tLoss: 0.006224\tAcc: 100.000000\n",
      "Train Epoch: 40 [110/311 (67%)]\tLoss: 0.005765\tAcc: 100.000000\n",
      "Train Epoch: 41 [0/311 (0%)]\tLoss: 0.002793\tAcc: 100.000000\n",
      "Train Epoch: 41 [128/311 (33%)]\tLoss: 0.005682\tAcc: 100.000000\n",
      "Train Epoch: 41 [110/311 (67%)]\tLoss: 0.007583\tAcc: 100.000000\n",
      "Train Epoch: 42 [0/311 (0%)]\tLoss: 0.004259\tAcc: 100.000000\n",
      "Train Epoch: 42 [128/311 (33%)]\tLoss: 0.005956\tAcc: 100.000000\n",
      "Train Epoch: 42 [110/311 (67%)]\tLoss: 0.002554\tAcc: 100.000000\n",
      "Train Epoch: 43 [0/311 (0%)]\tLoss: 0.006921\tAcc: 100.000000\n",
      "Train Epoch: 43 [128/311 (33%)]\tLoss: 0.002822\tAcc: 100.000000\n",
      "Train Epoch: 43 [110/311 (67%)]\tLoss: 0.001841\tAcc: 100.000000\n",
      "Train Epoch: 44 [0/311 (0%)]\tLoss: 0.006330\tAcc: 100.000000\n",
      "Train Epoch: 44 [128/311 (33%)]\tLoss: 0.002535\tAcc: 100.000000\n",
      "Train Epoch: 44 [110/311 (67%)]\tLoss: 0.001226\tAcc: 100.000000\n",
      "Train Epoch: 45 [0/311 (0%)]\tLoss: 0.003649\tAcc: 100.000000\n",
      "Train Epoch: 45 [128/311 (33%)]\tLoss: 0.003954\tAcc: 100.000000\n",
      "Train Epoch: 45 [110/311 (67%)]\tLoss: 0.002369\tAcc: 100.000000\n"
     ]
    },
    {
     "name": "stdout",
     "output_type": "stream",
     "text": [
      "Train Epoch: 46 [0/311 (0%)]\tLoss: 0.001099\tAcc: 100.000000\n",
      "Train Epoch: 46 [128/311 (33%)]\tLoss: 0.005745\tAcc: 100.000000\n",
      "Train Epoch: 46 [110/311 (67%)]\tLoss: 0.003147\tAcc: 100.000000\n",
      "Train Epoch: 47 [0/311 (0%)]\tLoss: 0.002085\tAcc: 100.000000\n",
      "Train Epoch: 47 [128/311 (33%)]\tLoss: 0.002976\tAcc: 100.000000\n",
      "Train Epoch: 47 [110/311 (67%)]\tLoss: 0.006470\tAcc: 100.000000\n",
      "Train Epoch: 48 [0/311 (0%)]\tLoss: 0.001695\tAcc: 100.000000\n",
      "Train Epoch: 48 [128/311 (33%)]\tLoss: 0.003747\tAcc: 100.000000\n",
      "Train Epoch: 48 [110/311 (67%)]\tLoss: 0.003741\tAcc: 100.000000\n",
      "Train Epoch: 49 [0/311 (0%)]\tLoss: 0.003516\tAcc: 100.000000\n",
      "Train Epoch: 49 [128/311 (33%)]\tLoss: 0.001741\tAcc: 100.000000\n",
      "Train Epoch: 49 [110/311 (67%)]\tLoss: 0.004259\tAcc: 100.000000\n",
      "Train Epoch: 50 [0/311 (0%)]\tLoss: 0.003389\tAcc: 100.000000\n",
      "Train Epoch: 50 [128/311 (33%)]\tLoss: 0.002407\tAcc: 100.000000\n",
      "Train Epoch: 50 [110/311 (67%)]\tLoss: 0.001501\tAcc: 100.000000\n"
     ]
    }
   ],
   "source": [
    "num_epochs = 50\n",
    "\n",
    "for epoch in range(1,  num_epochs + 1):\n",
    "    train(epoch)"
   ]
  },
  {
   "cell_type": "code",
   "execution_count": 10,
   "metadata": {},
   "outputs": [],
   "source": [
    "test_data = []\n",
    "for i in range(6):\n",
    "    name = \"./data/test/\" + \"X_test_\" + str(i+1) + \".p\"\n",
    "    test_data.append(pickle.load(open(name, \"rb\")))"
   ]
  },
  {
   "cell_type": "code",
   "execution_count": 11,
   "metadata": {},
   "outputs": [
    {
     "name": "stdout",
     "output_type": "stream",
     "text": [
      "(90, 1, 28, 28)\n"
     ]
    }
   ],
   "source": [
    "X_test = np.concatenate(test_data)\n",
    "print(X_test.shape)"
   ]
  },
  {
   "cell_type": "code",
   "execution_count": 12,
   "metadata": {},
   "outputs": [
    {
     "data": {
      "image/png": "[encoded data removed]",
      "text/plain": [
       "<matplotlib.figure.Figure at 0x113d06eb8>"
      ]
     },
     "metadata": {},
     "output_type": "display_data"
    }
   ],
   "source": [
    "poop = np.transpose(X_test, [0, 2, 3, 1])\n",
    "mask = np.arange(25)\n",
    "view_images(poop[mask])"
   ]
  },
  {
   "cell_type": "code",
   "execution_count": 13,
   "metadata": {},
   "outputs": [],
   "source": [
    "gd_truths = []\n",
    "for i in range(6):\n",
    "    gd_truth = [i]*15\n",
    "    gd_truths.append(gd_truth)\n",
    "\n",
    "# flatten\n",
    "gd_truths = [x for sublist in gd_truths for x in sublist]"
   ]
  },
  {
   "cell_type": "code",
   "execution_count": 14,
   "metadata": {},
   "outputs": [],
   "source": [
    "labels = np.array(gd_truths)\n",
    "labels = np.resize(labels, [labels.shape[0], 1])\n",
    "\n",
    "X_test = torch.from_numpy(X_test)\n",
    "y_test = torch.from_numpy(labels)"
   ]
  },
  {
   "cell_type": "code",
   "execution_count": 15,
   "metadata": {},
   "outputs": [
    {
     "data": {
      "text/plain": [
       "torch.Size([90, 1, 28, 28])"
      ]
     },
     "execution_count": 15,
     "metadata": {},
     "output_type": "execute_result"
    }
   ],
   "source": [
    "X_test.shape"
   ]
  },
  {
   "cell_type": "code",
   "execution_count": 16,
   "metadata": {},
   "outputs": [],
   "source": [
    "def test():\n",
    "    correct = 0\n",
    "    data, target = Variable(X_test, volatile=True), Variable(y_test)\n",
    "    output = model(data)\n",
    "    pred = output.data.max(1, keepdim=True)[1]\n",
    "    correct += pred.eq(target.data.view_as(pred)).cpu().sum()\n",
    "    inco\n",
    "    print('Accuracy: {}/{} ({:.0f}%)\\n'.format(correct, X_test.size()[0],\n",
    "        100. * correct / X_test.size()[0]))\n",
    "    return pred"
   ]
  },
  {
   "cell_type": "code",
   "execution_count": 25,
   "metadata": {},
   "outputs": [
    {
     "name": "stdout",
     "output_type": "stream",
     "text": [
      "Accuracy: 89/90 (99%)\n",
      "\n"
     ]
    }
   ],
   "source": [
    "pred = test()"
   ]
  },
  {
   "cell_type": "code",
   "execution_count": 26,
   "metadata": {},
   "outputs": [],
   "source": [
    "pred = list(pred.numpy().flatten())"
   ]
  },
  {
   "cell_type": "code",
   "execution_count": 21,
   "metadata": {},
   "outputs": [
    {
     "name": "stdout",
     "output_type": "stream",
     "text": [
      "Gd Truth: ['circle', 'circle', 'circle', 'circle', 'circle', 'circle', 'circle', 'circle', 'circle', 'circle', 'circle', 'circle', 'circle', 'circle', 'circle', 'cross', 'cross', 'cross', 'cross', 'cross', 'cross', 'cross', 'cross', 'cross', 'cross', 'cross', 'cross', 'cross', 'cross', 'cross', 'rhombus', 'rhombus', 'rhombus', 'rhombus', 'rhombus', 'rhombus', 'rhombus', 'rhombus', 'rhombus', 'rhombus', 'rhombus', 'rhombus', 'rhombus', 'rhombus', 'rhombus', 'square', 'square', 'square', 'square', 'square', 'square', 'square', 'square', 'square', 'square', 'square', 'square', 'square', 'square', 'square', 'squiggly', 'squiggly', 'squiggly', 'squiggly', 'squiggly', 'squiggly', 'squiggly', 'squiggly', 'squiggly', 'squiggly', 'squiggly', 'squiggly', 'squiggly', 'squiggly', 'squiggly', 'triangle', 'triangle', 'triangle', 'triangle', 'triangle', 'triangle', 'triangle', 'triangle', 'triangle', 'triangle', 'triangle', 'triangle', 'triangle', 'triangle', 'triangle']\n",
      "\n",
      "\n",
      "Predictions: ['circle', 'circle', 'circle', 'circle', 'circle', 'circle', 'circle', 'circle', 'circle', 'circle', 'circle', 'circle', 'circle', 'circle', 'circle', 'cross', 'cross', 'cross', 'cross', 'cross', 'cross', 'cross', 'cross', 'cross', 'cross', 'cross', 'cross', 'cross', 'cross', 'cross', 'rhombus', 'rhombus', 'rhombus', 'rhombus', 'rhombus', 'rhombus', 'rhombus', 'rhombus', 'rhombus', 'rhombus', 'rhombus', 'rhombus', 'rhombus', 'rhombus', 'rhombus', 'square', 'square', 'square', 'square', 'square', 'square', 'square', 'square', 'square', 'square', 'square', 'square', 'square', 'square', 'square', 'squiggly', 'squiggly', 'squiggly', 'squiggly', 'squiggly', 'squiggly', 'squiggly', 'cross', 'squiggly', 'squiggly', 'squiggly', 'squiggly', 'squiggly', 'squiggly', 'squiggly', 'triangle', 'triangle', 'triangle', 'triangle', 'triangle', 'triangle', 'triangle', 'triangle', 'triangle', 'triangle', 'triangle', 'triangle', 'triangle', 'triangle', 'triangle']\n"
     ]
    }
   ],
   "source": [
    "correct_names = [num2name(x) for x in gd_truths]\n",
    "prediction = list(pred.numpy().flatten())\n",
    "prediction = [num2name(x) for x in prediction]\n",
    "print(\"Gd Truth: {}\".format(correct_names))\n",
    "print(\"\\n\")\n",
    "print(\"Predictions: {}\".format(prediction))"
   ]
  },
  {
   "cell_type": "code",
   "execution_count": 24,
   "metadata": {},
   "outputs": [],
   "source": [
    "from sklearn.metrics import precision_recall_fscore_support"
   ]
  },
  {
   "cell_type": "code",
   "execution_count": 27,
   "metadata": {},
   "outputs": [
    {
     "data": {
      "text/plain": [
       "(array([ 1.    ,  0.9375,  1.    ,  1.    ,  1.    ,  1.    ]),\n",
       " array([ 1.        ,  1.        ,  1.        ,  1.        ,  0.93333333,  1.        ]),\n",
       " array([ 1.        ,  0.96774194,  1.        ,  1.        ,  0.96551724,  1.        ]),\n",
       " array([15, 15, 15, 15, 15, 15]))"
      ]
     },
     "execution_count": 27,
     "metadata": {},
     "output_type": "execute_result"
    }
   ],
   "source": [
    "precision_recall_fscore_support(gd_truths, pred)"
   ]
  },
  {
   "cell_type": "markdown",
   "metadata": {},
   "source": [
    "circle: 1, 1, 1\n",
    "cross: 0.9375, 1, 0.967\n",
    "rhombus: 1, 1, 1\n",
    "square: 1, 1, 1\n",
    "squiggly: 1, 0.93333, 0.965\n",
    "triangle: 1, 1, 1"
   ]
  }
 ],
 "metadata": {
  "kernelspec": {
   "display_name": "Python 3",
   "language": "python",
   "name": "python3"
  },
  "language_info": {
   "codemirror_mode": {
    "name": "ipython",
    "version": 3
   },
   "file_extension": ".py",
   "mimetype": "text/x-python",
   "name": "python",
   "nbconvert_exporter": "python",
   "pygments_lexer": "ipython3",
   "version": "3.6.3"
  }
 },
 "nbformat": 4,
 "nbformat_minor": 2
}
